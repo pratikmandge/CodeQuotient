{
 "cells": [
  {
   "cell_type": "markdown",
   "metadata": {},
   "source": [
    "**Verify Prime Number**     \n",
    "\n",
    "Given an integer n, the task is to check whether that the given integer is a prime number or not    \n",
    "\n",
    "Complete the function **verifyPrime()** given in the editor, that accepts an integer parameter n and returns    \n",
    "true/1 if number is prime and false/0 if number is not prime.      \n",
    "\n",
    "**Input Format:**   \n",
    "```\n",
    "The first line of input contains the number of test cases , T   \n",
    "Then T lines follow, each line contains an integer, n which is to be checked whether it is prime or not     \n",
    "```\n",
    "**Constraints:**        \n",
    "```\n",
    "1 ≤ T ≤ 100\n",
    "0 ≤ n ≤ 10^9\n",
    "```\n",
    "**Output Format:**\n",
    "```\n",
    "Print 'PRIME', if the number is a prime number else 'NOT PRIME' for each testcase in a new line.    \n",
    "```\n",
    "**Sample Input**\n",
    "```\n",
    "2 // No. of testcases\n",
    "3\n",
    "4\n",
    "```\n",
    "**Sample Output**\n",
    "```\n",
    "PRIME\n",
    "NOT PRIME\n",
    "```"
   ]
  },
  {
   "cell_type": "markdown",
   "metadata": {},
   "source": [
    "**Solution**"
   ]
  },
  {
   "cell_type": "code",
   "execution_count": null,
   "metadata": {},
   "outputs": [],
   "source": [
    "#  Complete the function 'verifyPrime'\n",
    "#  @params\n",
    "#    n ->number which is to be checked from primality test\n",
    "# \n",
    "#  @return\n",
    "#    true if the number is a prime number else false\n",
    "def verifyPrime(n):\n",
    "  # Write your code here\n",
    "    if (n == 0 or n == 1):\n",
    "      \treturn False\t\t\t\n",
    "    i=2\n",
    "    while(i<=int(n**(1/2))):\n",
    "        if (n % i == 0):\n",
    "            return False\n",
    "        i+=1\n",
    "    return True\n",
    "\n",
    "\n",
    "# Driver Code\n",
    "if __name__ == '__main__':\n",
    "  t = int(input())\n",
    "  for _ in range(t):\n",
    "    n = int(input())\n",
    "    print('PRIME' if verifyPrime(n) else 'NOT PRIME')"
   ]
  }
 ],
 "metadata": {
  "language_info": {
   "name": "python"
  },
  "orig_nbformat": 4
 },
 "nbformat": 4,
 "nbformat_minor": 2
}
